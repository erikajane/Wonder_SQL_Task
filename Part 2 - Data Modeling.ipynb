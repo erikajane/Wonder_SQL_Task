{
 "cells": [
  {
   "cell_type": "markdown",
   "metadata": {},
   "source": [
    "# Part 2: Data Modeling"
   ]
  },
  {
   "cell_type": "markdown",
   "metadata": {},
   "source": [
    "## Assuming we are starting with the data set from Part 1 as our raw data table, how would you model this data in a data warehouse for analytical purposes? What tables would you create? What kinds of questions do you imagine business users would want to ask of this data, and how would they express them in your data model? Please use whatever tools you are comfortable with to answer this question and whatever flavor of SQL you are most familiar with. A github repo or gist is preferred."
   ]
  },
  {
   "cell_type": "markdown",
   "metadata": {},
   "source": [
    "### Tables"
   ]
  },
  {
   "cell_type": "markdown",
   "metadata": {},
   "source": [
    "__Table 1: Requests__\n",
    " - Requests\n",
    " - Request_created_at\n",
    "\n",
    "__Table 2: Analyst Quality__\n",
    " - Event_occured_at (Another option is Request but I am not sure if a Analyst can do anothr job for a request after their Quality_score has been changed; If the source to quality can be connected, then perhaps this column would nit be needed and a smaller table can be stored)\n",
    " - Analyst\n",
    " - Quality_score (Quality_score_sourcing & Quality_score_writing are equivalent in all observations)\n",
    " \n",
    "__Table 3: Jobs Available__\n",
    " - Event_occured_at\n",
    " - Job_type\n",
    " - Number_available\n",
    " \n",
    " For this table I would be converting the following column from wide format to long format\n",
    "     - Review_jobs_available\n",
    "     - Vetting_jobs_available\n",
    "     - Editing_jobs_available\n",
    "     - Sourcing_jobs_available\n",
    "     - Writing_jobs_available"
   ]
  },
  {
   "cell_type": "markdown",
   "metadata": {},
   "source": [
    "### Modeling the Data"
   ]
  },
  {
   "cell_type": "markdown",
   "metadata": {},
   "source": [
    "I decided to model the data using the Tidy Data concepts presented by Hadley Wickham in his paper, __Tidy Data__, published in the _Journal of Statistical Software_ (https://vita.had.co.nz/papers/tidy-data.pdf)."
   ]
  },
  {
   "cell_type": "code",
   "execution_count": null,
   "metadata": {},
   "outputs": [],
   "source": []
  },
  {
   "cell_type": "markdown",
   "metadata": {},
   "source": [
    "### Business Questions"
   ]
  },
  {
   "cell_type": "markdown",
   "metadata": {},
   "source": [
    "#### How long does it take for a request to be completed?"
   ]
  },
  {
   "cell_type": "code",
   "execution_count": null,
   "metadata": {},
   "outputs": [],
   "source": []
  }
 ],
 "metadata": {
  "kernelspec": {
   "display_name": "Python 3",
   "language": "python",
   "name": "python3"
  },
  "language_info": {
   "codemirror_mode": {
    "name": "ipython",
    "version": 3
   },
   "file_extension": ".py",
   "mimetype": "text/x-python",
   "name": "python",
   "nbconvert_exporter": "python",
   "pygments_lexer": "ipython3",
   "version": "3.7.3"
  }
 },
 "nbformat": 4,
 "nbformat_minor": 2
}
