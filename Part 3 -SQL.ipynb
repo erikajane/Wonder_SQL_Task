{
 "cells": [
  {
   "cell_type": "code",
   "execution_count": 1,
   "metadata": {},
   "outputs": [],
   "source": [
    "# Import necessary libraries\n",
    "\n",
    "import sqlite3"
   ]
  },
  {
   "cell_type": "code",
   "execution_count": 2,
   "metadata": {},
   "outputs": [],
   "source": [
    "# Connect to databse\n",
    "conn = sqlite3.connect('database.db')\n",
    "c = conn.cursor()"
   ]
  },
  {
   "cell_type": "markdown",
   "metadata": {},
   "source": [
    "# Part 3: SQL\n",
    "\n",
    "## Assume we are using these two tables:\n",
    "\n",
    "## What are the problem(s) with this SQL query?"
   ]
  },
  {
   "cell_type": "markdown",
   "metadata": {},
   "source": [
    "- __WHERE order.order_date >= '20090101'__\n",
    "    - In the orders table the format of the column order_date is, 'year-month-day'. The format of the date in the SQL query is 'yearmonthday'. These two formats do not match. This results in every row being returned that does not have a null value.\n",
    "- __SELECT ... SUM(COALESCE(orders.order_amt, 0)) AS total_2019__\n",
    "    - Using COALESCE does not make any sense in this scenario. The order of operations says the FROM and WHERE statements are executed before the SELECT statement. Therefore, there is no need to account for any null values in the orders_amt column because any rows that have null values through the join (Julie Peters) will be dropped during the WHERE statement because the date will be null as well. It would be simpler to use the statement __SUM(orders.orders_amt)."
   ]
  },
  {
   "cell_type": "code",
   "execution_count": 160,
   "metadata": {},
   "outputs": [],
   "source": [
    "c.execute('CREATE TABLE customers (customer_nbr int, customer_name varchar(255))')\n",
    "conn.commit()"
   ]
  },
  {
   "cell_type": "code",
   "execution_count": 161,
   "metadata": {},
   "outputs": [
    {
     "data": {
      "text/plain": [
       "<sqlite3.Cursor at 0x114f3fc00>"
      ]
     },
     "execution_count": 161,
     "metadata": {},
     "output_type": "execute_result"
    }
   ],
   "source": [
    "c.execute(\"INSERT INTO customers (customer_nbr, customer_name) VALUES (1, 'Jim Brown')\")\n",
    "c.execute(\"INSERT INTO customers (customer_nbr, customer_name) VALUES (2, 'Jeff Gordon')\")\n",
    "c.execute(\"INSERT INTO customers (customer_nbr, customer_name) VALUES (3, 'Peter Green')\")\n",
    "c.execute(\"INSERT INTO customers (customer_nbr, customer_name) VALUES (4, 'Julie Peters')\")"
   ]
  },
  {
   "cell_type": "code",
   "execution_count": 164,
   "metadata": {},
   "outputs": [
    {
     "data": {
      "text/html": [
       "<div>\n",
       "<style scoped>\n",
       "    .dataframe tbody tr th:only-of-type {\n",
       "        vertical-align: middle;\n",
       "    }\n",
       "\n",
       "    .dataframe tbody tr th {\n",
       "        vertical-align: top;\n",
       "    }\n",
       "\n",
       "    .dataframe thead th {\n",
       "        text-align: right;\n",
       "    }\n",
       "</style>\n",
       "<table border=\"1\" class=\"dataframe\">\n",
       "  <thead>\n",
       "    <tr style=\"text-align: right;\">\n",
       "      <th></th>\n",
       "      <th>customer_nbr</th>\n",
       "      <th>customer_name</th>\n",
       "    </tr>\n",
       "  </thead>\n",
       "  <tbody>\n",
       "    <tr>\n",
       "      <th>0</th>\n",
       "      <td>1</td>\n",
       "      <td>Jim Brown</td>\n",
       "    </tr>\n",
       "    <tr>\n",
       "      <th>1</th>\n",
       "      <td>2</td>\n",
       "      <td>Jeff Gordon</td>\n",
       "    </tr>\n",
       "    <tr>\n",
       "      <th>2</th>\n",
       "      <td>3</td>\n",
       "      <td>Peter Green</td>\n",
       "    </tr>\n",
       "    <tr>\n",
       "      <th>3</th>\n",
       "      <td>4</td>\n",
       "      <td>Julie Peters</td>\n",
       "    </tr>\n",
       "  </tbody>\n",
       "</table>\n",
       "</div>"
      ],
      "text/plain": [
       "   customer_nbr customer_name\n",
       "0             1     Jim Brown\n",
       "1             2   Jeff Gordon\n",
       "2             3   Peter Green\n",
       "3             4  Julie Peters"
      ]
     },
     "execution_count": 164,
     "metadata": {},
     "output_type": "execute_result"
    }
   ],
   "source": [
    "c.execute(\"\"\"SELECT *\n",
    "            FROM customers\"\"\")\n",
    "data = pd.DataFrame(c.fetchall())\n",
    "data.columns = [x[0] for x in c.description]\n",
    "data"
   ]
  },
  {
   "cell_type": "code",
   "execution_count": 170,
   "metadata": {},
   "outputs": [],
   "source": [
    "c.execute('CREATE TABLE orders (order_nbr int, order_date datetime, customer_nbr int, order_amt int)')\n",
    "conn.commit()"
   ]
  },
  {
   "cell_type": "code",
   "execution_count": 171,
   "metadata": {},
   "outputs": [
    {
     "data": {
      "text/plain": [
       "<sqlite3.Cursor at 0x114f3fc00>"
      ]
     },
     "execution_count": 171,
     "metadata": {},
     "output_type": "execute_result"
    }
   ],
   "source": [
    "c.execute(\"INSERT INTO orders (order_nbr, order_date, customer_nbr, order_amt) VALUES (1, '2008-10-01', 1, 15.50)\")\n",
    "c.execute(\"INSERT INTO orders (order_nbr, order_date, customer_nbr, order_amt) VALUES (2, '2008-12-15', 2, 25.50)\")\n",
    "c.execute(\"INSERT INTO orders (order_nbr, order_date, customer_nbr, order_amt) VALUES (3, '2009-01-02', 1, 18.00)\")\n",
    "c.execute(\"INSERT INTO orders (order_nbr, order_date, customer_nbr, order_amt) VALUES (4, '2009-02-20', 3, 10.25)\")\n",
    "c.execute(\"INSERT INTO orders (order_nbr, order_date, customer_nbr, order_amt) VALUES (5, '2009-03-05', 1, 30.00)\")"
   ]
  },
  {
   "cell_type": "code",
   "execution_count": 181,
   "metadata": {},
   "outputs": [
    {
     "data": {
      "text/html": [
       "<div>\n",
       "<style scoped>\n",
       "    .dataframe tbody tr th:only-of-type {\n",
       "        vertical-align: middle;\n",
       "    }\n",
       "\n",
       "    .dataframe tbody tr th {\n",
       "        vertical-align: top;\n",
       "    }\n",
       "\n",
       "    .dataframe thead th {\n",
       "        text-align: right;\n",
       "    }\n",
       "</style>\n",
       "<table border=\"1\" class=\"dataframe\">\n",
       "  <thead>\n",
       "    <tr style=\"text-align: right;\">\n",
       "      <th></th>\n",
       "      <th>order_nbr</th>\n",
       "      <th>order_date</th>\n",
       "      <th>customer_nbr</th>\n",
       "      <th>order_amt</th>\n",
       "    </tr>\n",
       "  </thead>\n",
       "  <tbody>\n",
       "    <tr>\n",
       "      <th>0</th>\n",
       "      <td>1</td>\n",
       "      <td>2008-10-01</td>\n",
       "      <td>1</td>\n",
       "      <td>15.50</td>\n",
       "    </tr>\n",
       "    <tr>\n",
       "      <th>1</th>\n",
       "      <td>2</td>\n",
       "      <td>2008-12-15</td>\n",
       "      <td>2</td>\n",
       "      <td>25.50</td>\n",
       "    </tr>\n",
       "    <tr>\n",
       "      <th>2</th>\n",
       "      <td>3</td>\n",
       "      <td>2009-01-02</td>\n",
       "      <td>1</td>\n",
       "      <td>18.00</td>\n",
       "    </tr>\n",
       "    <tr>\n",
       "      <th>3</th>\n",
       "      <td>4</td>\n",
       "      <td>2009-02-20</td>\n",
       "      <td>3</td>\n",
       "      <td>10.25</td>\n",
       "    </tr>\n",
       "    <tr>\n",
       "      <th>4</th>\n",
       "      <td>5</td>\n",
       "      <td>2009-03-05</td>\n",
       "      <td>1</td>\n",
       "      <td>30.00</td>\n",
       "    </tr>\n",
       "  </tbody>\n",
       "</table>\n",
       "</div>"
      ],
      "text/plain": [
       "   order_nbr  order_date  customer_nbr  order_amt\n",
       "0          1  2008-10-01             1      15.50\n",
       "1          2  2008-12-15             2      25.50\n",
       "2          3  2009-01-02             1      18.00\n",
       "3          4  2009-02-20             3      10.25\n",
       "4          5  2009-03-05             1      30.00"
      ]
     },
     "execution_count": 181,
     "metadata": {},
     "output_type": "execute_result"
    }
   ],
   "source": [
    "c.execute(\"\"\"SELECT *\n",
    "            FROM orders\"\"\")\n",
    "data = pd.DataFrame(c.fetchall())\n",
    "data.columns = [x[0] for x in c.description]\n",
    "data"
   ]
  },
  {
   "cell_type": "code",
   "execution_count": 182,
   "metadata": {},
   "outputs": [
    {
     "data": {
      "text/html": [
       "<div>\n",
       "<style scoped>\n",
       "    .dataframe tbody tr th:only-of-type {\n",
       "        vertical-align: middle;\n",
       "    }\n",
       "\n",
       "    .dataframe tbody tr th {\n",
       "        vertical-align: top;\n",
       "    }\n",
       "\n",
       "    .dataframe thead th {\n",
       "        text-align: right;\n",
       "    }\n",
       "</style>\n",
       "<table border=\"1\" class=\"dataframe\">\n",
       "  <thead>\n",
       "    <tr style=\"text-align: right;\">\n",
       "      <th></th>\n",
       "      <th>customer_name</th>\n",
       "      <th>total_2009</th>\n",
       "    </tr>\n",
       "  </thead>\n",
       "  <tbody>\n",
       "    <tr>\n",
       "      <th>0</th>\n",
       "      <td>Jeff Gordon</td>\n",
       "      <td>25.50</td>\n",
       "    </tr>\n",
       "    <tr>\n",
       "      <th>1</th>\n",
       "      <td>Jim Brown</td>\n",
       "      <td>63.50</td>\n",
       "    </tr>\n",
       "    <tr>\n",
       "      <th>2</th>\n",
       "      <td>Peter Green</td>\n",
       "      <td>10.25</td>\n",
       "    </tr>\n",
       "  </tbody>\n",
       "</table>\n",
       "</div>"
      ],
      "text/plain": [
       "  customer_name  total_2009\n",
       "0   Jeff Gordon       25.50\n",
       "1     Jim Brown       63.50\n",
       "2   Peter Green       10.25"
      ]
     },
     "execution_count": 182,
     "metadata": {},
     "output_type": "execute_result"
    }
   ],
   "source": [
    "c.execute(\"\"\"SELECT customers.customer_name,\n",
    "                    SUM(COALESCE(orders.order_amt, 0)) AS total_2009\n",
    "            FROM customers\n",
    "            LEFT OUTER JOIN orders ON (customers.customer_nbr = orders.customer_nbr)\n",
    "            WHERE orders.order_date >= '20090101'\n",
    "            GROUP BY customers.customer_name\"\"\")\n",
    "data = pd.DataFrame(c.fetchall())\n",
    "data.columns = [x[0] for x in c.description]\n",
    "data"
   ]
  },
  {
   "cell_type": "code",
   "execution_count": 183,
   "metadata": {},
   "outputs": [
    {
     "data": {
      "text/html": [
       "<div>\n",
       "<style scoped>\n",
       "    .dataframe tbody tr th:only-of-type {\n",
       "        vertical-align: middle;\n",
       "    }\n",
       "\n",
       "    .dataframe tbody tr th {\n",
       "        vertical-align: top;\n",
       "    }\n",
       "\n",
       "    .dataframe thead th {\n",
       "        text-align: right;\n",
       "    }\n",
       "</style>\n",
       "<table border=\"1\" class=\"dataframe\">\n",
       "  <thead>\n",
       "    <tr style=\"text-align: right;\">\n",
       "      <th></th>\n",
       "      <th>customer_nbr</th>\n",
       "      <th>customer_name</th>\n",
       "      <th>order_nbr</th>\n",
       "      <th>order_date</th>\n",
       "      <th>customer_nbr</th>\n",
       "      <th>order_amt</th>\n",
       "    </tr>\n",
       "  </thead>\n",
       "  <tbody>\n",
       "    <tr>\n",
       "      <th>0</th>\n",
       "      <td>1</td>\n",
       "      <td>Jim Brown</td>\n",
       "      <td>1.0</td>\n",
       "      <td>2008-10-01</td>\n",
       "      <td>1.0</td>\n",
       "      <td>15.50</td>\n",
       "    </tr>\n",
       "    <tr>\n",
       "      <th>1</th>\n",
       "      <td>1</td>\n",
       "      <td>Jim Brown</td>\n",
       "      <td>3.0</td>\n",
       "      <td>2009-01-02</td>\n",
       "      <td>1.0</td>\n",
       "      <td>18.00</td>\n",
       "    </tr>\n",
       "    <tr>\n",
       "      <th>2</th>\n",
       "      <td>1</td>\n",
       "      <td>Jim Brown</td>\n",
       "      <td>5.0</td>\n",
       "      <td>2009-03-05</td>\n",
       "      <td>1.0</td>\n",
       "      <td>30.00</td>\n",
       "    </tr>\n",
       "    <tr>\n",
       "      <th>3</th>\n",
       "      <td>2</td>\n",
       "      <td>Jeff Gordon</td>\n",
       "      <td>2.0</td>\n",
       "      <td>2008-12-15</td>\n",
       "      <td>2.0</td>\n",
       "      <td>25.50</td>\n",
       "    </tr>\n",
       "    <tr>\n",
       "      <th>4</th>\n",
       "      <td>3</td>\n",
       "      <td>Peter Green</td>\n",
       "      <td>4.0</td>\n",
       "      <td>2009-02-20</td>\n",
       "      <td>3.0</td>\n",
       "      <td>10.25</td>\n",
       "    </tr>\n",
       "    <tr>\n",
       "      <th>5</th>\n",
       "      <td>4</td>\n",
       "      <td>Julie Peters</td>\n",
       "      <td>NaN</td>\n",
       "      <td>None</td>\n",
       "      <td>NaN</td>\n",
       "      <td>NaN</td>\n",
       "    </tr>\n",
       "  </tbody>\n",
       "</table>\n",
       "</div>"
      ],
      "text/plain": [
       "   customer_nbr customer_name  order_nbr  order_date  customer_nbr  order_amt\n",
       "0             1     Jim Brown        1.0  2008-10-01           1.0      15.50\n",
       "1             1     Jim Brown        3.0  2009-01-02           1.0      18.00\n",
       "2             1     Jim Brown        5.0  2009-03-05           1.0      30.00\n",
       "3             2   Jeff Gordon        2.0  2008-12-15           2.0      25.50\n",
       "4             3   Peter Green        4.0  2009-02-20           3.0      10.25\n",
       "5             4  Julie Peters        NaN        None           NaN        NaN"
      ]
     },
     "execution_count": 183,
     "metadata": {},
     "output_type": "execute_result"
    }
   ],
   "source": [
    "c.execute(\"\"\"SELECT *\n",
    "            FROM customers\n",
    "            LEFT OUTER JOIN orders ON (customers.customer_nbr = orders.customer_nbr)\"\"\")\n",
    "data = pd.DataFrame(c.fetchall())\n",
    "data.columns = [x[0] for x in c.description]\n",
    "data"
   ]
  },
  {
   "cell_type": "code",
   "execution_count": 180,
   "metadata": {},
   "outputs": [
    {
     "data": {
      "text/html": [
       "<div>\n",
       "<style scoped>\n",
       "    .dataframe tbody tr th:only-of-type {\n",
       "        vertical-align: middle;\n",
       "    }\n",
       "\n",
       "    .dataframe tbody tr th {\n",
       "        vertical-align: top;\n",
       "    }\n",
       "\n",
       "    .dataframe thead th {\n",
       "        text-align: right;\n",
       "    }\n",
       "</style>\n",
       "<table border=\"1\" class=\"dataframe\">\n",
       "  <thead>\n",
       "    <tr style=\"text-align: right;\">\n",
       "      <th></th>\n",
       "      <th>customer_nbr</th>\n",
       "      <th>customer_name</th>\n",
       "      <th>order_nbr</th>\n",
       "      <th>order_date</th>\n",
       "      <th>customer_nbr</th>\n",
       "      <th>order_amt</th>\n",
       "    </tr>\n",
       "  </thead>\n",
       "  <tbody>\n",
       "    <tr>\n",
       "      <th>0</th>\n",
       "      <td>1</td>\n",
       "      <td>Jim Brown</td>\n",
       "      <td>1</td>\n",
       "      <td>2008-10-01</td>\n",
       "      <td>1</td>\n",
       "      <td>15.50</td>\n",
       "    </tr>\n",
       "    <tr>\n",
       "      <th>1</th>\n",
       "      <td>2</td>\n",
       "      <td>Jeff Gordon</td>\n",
       "      <td>2</td>\n",
       "      <td>2008-12-15</td>\n",
       "      <td>2</td>\n",
       "      <td>25.50</td>\n",
       "    </tr>\n",
       "    <tr>\n",
       "      <th>2</th>\n",
       "      <td>1</td>\n",
       "      <td>Jim Brown</td>\n",
       "      <td>3</td>\n",
       "      <td>2009-01-02</td>\n",
       "      <td>1</td>\n",
       "      <td>18.00</td>\n",
       "    </tr>\n",
       "    <tr>\n",
       "      <th>3</th>\n",
       "      <td>3</td>\n",
       "      <td>Peter Green</td>\n",
       "      <td>4</td>\n",
       "      <td>2009-02-20</td>\n",
       "      <td>3</td>\n",
       "      <td>10.25</td>\n",
       "    </tr>\n",
       "    <tr>\n",
       "      <th>4</th>\n",
       "      <td>1</td>\n",
       "      <td>Jim Brown</td>\n",
       "      <td>5</td>\n",
       "      <td>2009-03-05</td>\n",
       "      <td>1</td>\n",
       "      <td>30.00</td>\n",
       "    </tr>\n",
       "  </tbody>\n",
       "</table>\n",
       "</div>"
      ],
      "text/plain": [
       "   customer_nbr customer_name  order_nbr  order_date  customer_nbr  order_amt\n",
       "0             1     Jim Brown          1  2008-10-01             1      15.50\n",
       "1             2   Jeff Gordon          2  2008-12-15             2      25.50\n",
       "2             1     Jim Brown          3  2009-01-02             1      18.00\n",
       "3             3   Peter Green          4  2009-02-20             3      10.25\n",
       "4             1     Jim Brown          5  2009-03-05             1      30.00"
      ]
     },
     "execution_count": 180,
     "metadata": {},
     "output_type": "execute_result"
    }
   ],
   "source": [
    "c.execute(\"\"\"SELECT *\n",
    "            FROM customers\n",
    "            LEFT OUTER JOIN orders ON (customers.customer_nbr = orders.customer_nbr)\n",
    "            WHERE orders.order_date >= '20090101'\"\"\")\n",
    "data = pd.DataFrame(c.fetchall())\n",
    "data.columns = [x[0] for x in c.description]\n",
    "data"
   ]
  },
  {
   "cell_type": "code",
   "execution_count": 185,
   "metadata": {},
   "outputs": [
    {
     "data": {
      "text/html": [
       "<div>\n",
       "<style scoped>\n",
       "    .dataframe tbody tr th:only-of-type {\n",
       "        vertical-align: middle;\n",
       "    }\n",
       "\n",
       "    .dataframe tbody tr th {\n",
       "        vertical-align: top;\n",
       "    }\n",
       "\n",
       "    .dataframe thead th {\n",
       "        text-align: right;\n",
       "    }\n",
       "</style>\n",
       "<table border=\"1\" class=\"dataframe\">\n",
       "  <thead>\n",
       "    <tr style=\"text-align: right;\">\n",
       "      <th></th>\n",
       "      <th>customer_nbr</th>\n",
       "      <th>customer_name</th>\n",
       "      <th>order_nbr</th>\n",
       "      <th>order_date</th>\n",
       "      <th>customer_nbr</th>\n",
       "      <th>order_amt</th>\n",
       "      <th>total_2009</th>\n",
       "    </tr>\n",
       "  </thead>\n",
       "  <tbody>\n",
       "    <tr>\n",
       "      <th>0</th>\n",
       "      <td>1</td>\n",
       "      <td>Jim Brown</td>\n",
       "      <td>1</td>\n",
       "      <td>2008-10-01</td>\n",
       "      <td>1</td>\n",
       "      <td>15.50</td>\n",
       "      <td>15.50</td>\n",
       "    </tr>\n",
       "    <tr>\n",
       "      <th>1</th>\n",
       "      <td>2</td>\n",
       "      <td>Jeff Gordon</td>\n",
       "      <td>2</td>\n",
       "      <td>2008-12-15</td>\n",
       "      <td>2</td>\n",
       "      <td>25.50</td>\n",
       "      <td>25.50</td>\n",
       "    </tr>\n",
       "    <tr>\n",
       "      <th>2</th>\n",
       "      <td>1</td>\n",
       "      <td>Jim Brown</td>\n",
       "      <td>3</td>\n",
       "      <td>2009-01-02</td>\n",
       "      <td>1</td>\n",
       "      <td>18.00</td>\n",
       "      <td>18.00</td>\n",
       "    </tr>\n",
       "    <tr>\n",
       "      <th>3</th>\n",
       "      <td>3</td>\n",
       "      <td>Peter Green</td>\n",
       "      <td>4</td>\n",
       "      <td>2009-02-20</td>\n",
       "      <td>3</td>\n",
       "      <td>10.25</td>\n",
       "      <td>10.25</td>\n",
       "    </tr>\n",
       "    <tr>\n",
       "      <th>4</th>\n",
       "      <td>1</td>\n",
       "      <td>Jim Brown</td>\n",
       "      <td>5</td>\n",
       "      <td>2009-03-05</td>\n",
       "      <td>1</td>\n",
       "      <td>30.00</td>\n",
       "      <td>30.00</td>\n",
       "    </tr>\n",
       "  </tbody>\n",
       "</table>\n",
       "</div>"
      ],
      "text/plain": [
       "   customer_nbr customer_name  order_nbr  order_date  customer_nbr  order_amt  \\\n",
       "0             1     Jim Brown          1  2008-10-01             1      15.50   \n",
       "1             2   Jeff Gordon          2  2008-12-15             2      25.50   \n",
       "2             1     Jim Brown          3  2009-01-02             1      18.00   \n",
       "3             3   Peter Green          4  2009-02-20             3      10.25   \n",
       "4             1     Jim Brown          5  2009-03-05             1      30.00   \n",
       "\n",
       "   total_2009  \n",
       "0       15.50  \n",
       "1       25.50  \n",
       "2       18.00  \n",
       "3       10.25  \n",
       "4       30.00  "
      ]
     },
     "execution_count": 185,
     "metadata": {},
     "output_type": "execute_result"
    }
   ],
   "source": [
    "c.execute(\"\"\"SELECT *, COALESCE(orders.order_amt, 0) AS total_2009\n",
    "            FROM customers\n",
    "            LEFT OUTER JOIN orders ON (customers.customer_nbr = orders.customer_nbr)\n",
    "            WHERE orders.order_date >= '20090101'\"\"\")\n",
    "data = pd.DataFrame(c.fetchall())\n",
    "data.columns = [x[0] for x in c.description]\n",
    "data"
   ]
  },
  {
   "cell_type": "code",
   "execution_count": 187,
   "metadata": {},
   "outputs": [
    {
     "data": {
      "text/html": [
       "<div>\n",
       "<style scoped>\n",
       "    .dataframe tbody tr th:only-of-type {\n",
       "        vertical-align: middle;\n",
       "    }\n",
       "\n",
       "    .dataframe tbody tr th {\n",
       "        vertical-align: top;\n",
       "    }\n",
       "\n",
       "    .dataframe thead th {\n",
       "        text-align: right;\n",
       "    }\n",
       "</style>\n",
       "<table border=\"1\" class=\"dataframe\">\n",
       "  <thead>\n",
       "    <tr style=\"text-align: right;\">\n",
       "      <th></th>\n",
       "      <th>customer_name</th>\n",
       "      <th>total_2009</th>\n",
       "    </tr>\n",
       "  </thead>\n",
       "  <tbody>\n",
       "    <tr>\n",
       "      <th>0</th>\n",
       "      <td>Jeff Gordon</td>\n",
       "      <td>25.50</td>\n",
       "    </tr>\n",
       "    <tr>\n",
       "      <th>1</th>\n",
       "      <td>Jim Brown</td>\n",
       "      <td>63.50</td>\n",
       "    </tr>\n",
       "    <tr>\n",
       "      <th>2</th>\n",
       "      <td>Peter Green</td>\n",
       "      <td>10.25</td>\n",
       "    </tr>\n",
       "  </tbody>\n",
       "</table>\n",
       "</div>"
      ],
      "text/plain": [
       "  customer_name  total_2009\n",
       "0   Jeff Gordon       25.50\n",
       "1     Jim Brown       63.50\n",
       "2   Peter Green       10.25"
      ]
     },
     "execution_count": 187,
     "metadata": {},
     "output_type": "execute_result"
    }
   ],
   "source": [
    "c.execute(\"\"\"SELECT customers.customer_name, SUM(COALESCE(orders.order_amt, 0)) AS total_2009\n",
    "            FROM customers\n",
    "            LEFT OUTER JOIN orders ON (customers.customer_nbr = orders.customer_nbr)\n",
    "            WHERE orders.order_date >= '20090101'\n",
    "            GROUP BY customers.customer_name\"\"\")\n",
    "data = pd.DataFrame(c.fetchall())\n",
    "data.columns = [x[0] for x in c.description]\n",
    "data"
   ]
  },
  {
   "cell_type": "code",
   "execution_count": 188,
   "metadata": {},
   "outputs": [
    {
     "data": {
      "text/html": [
       "<div>\n",
       "<style scoped>\n",
       "    .dataframe tbody tr th:only-of-type {\n",
       "        vertical-align: middle;\n",
       "    }\n",
       "\n",
       "    .dataframe tbody tr th {\n",
       "        vertical-align: top;\n",
       "    }\n",
       "\n",
       "    .dataframe thead th {\n",
       "        text-align: right;\n",
       "    }\n",
       "</style>\n",
       "<table border=\"1\" class=\"dataframe\">\n",
       "  <thead>\n",
       "    <tr style=\"text-align: right;\">\n",
       "      <th></th>\n",
       "      <th>customer_name</th>\n",
       "      <th>total_2009</th>\n",
       "    </tr>\n",
       "  </thead>\n",
       "  <tbody>\n",
       "    <tr>\n",
       "      <th>0</th>\n",
       "      <td>Jeff Gordon</td>\n",
       "      <td>25.50</td>\n",
       "    </tr>\n",
       "    <tr>\n",
       "      <th>1</th>\n",
       "      <td>Jim Brown</td>\n",
       "      <td>63.50</td>\n",
       "    </tr>\n",
       "    <tr>\n",
       "      <th>2</th>\n",
       "      <td>Peter Green</td>\n",
       "      <td>10.25</td>\n",
       "    </tr>\n",
       "  </tbody>\n",
       "</table>\n",
       "</div>"
      ],
      "text/plain": [
       "  customer_name  total_2009\n",
       "0   Jeff Gordon       25.50\n",
       "1     Jim Brown       63.50\n",
       "2   Peter Green       10.25"
      ]
     },
     "execution_count": 188,
     "metadata": {},
     "output_type": "execute_result"
    }
   ],
   "source": [
    "c.execute(\"\"\"SELECT customers.customer_name, SUM(orders.order_amt) AS total_2009\n",
    "            FROM customers\n",
    "            LEFT OUTER JOIN orders ON (customers.customer_nbr = orders.customer_nbr)\n",
    "            WHERE orders.order_date >= '20090101'\n",
    "            GROUP BY customers.customer_name\"\"\")\n",
    "data = pd.DataFrame(c.fetchall())\n",
    "data.columns = [x[0] for x in c.description]\n",
    "data"
   ]
  },
  {
   "cell_type": "code",
   "execution_count": null,
   "metadata": {},
   "outputs": [],
   "source": []
  }
 ],
 "metadata": {
  "kernelspec": {
   "display_name": "Python 3",
   "language": "python",
   "name": "python3"
  },
  "language_info": {
   "codemirror_mode": {
    "name": "ipython",
    "version": 3
   },
   "file_extension": ".py",
   "mimetype": "text/x-python",
   "name": "python",
   "nbconvert_exporter": "python",
   "pygments_lexer": "ipython3",
   "version": "3.7.3"
  }
 },
 "nbformat": 4,
 "nbformat_minor": 2
}
